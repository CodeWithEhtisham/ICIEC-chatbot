{
 "cells": [
  {
   "cell_type": "code",
   "execution_count": 6,
   "id": "a63e4e72",
   "metadata": {},
   "outputs": [
    {
     "ename": "ModuleNotFoundError",
     "evalue": "No module named 'langchain_chroma'",
     "output_type": "error",
     "traceback": [
      "\u001b[0;31m---------------------------------------------------------------------------\u001b[0m",
      "\u001b[0;31mModuleNotFoundError\u001b[0m                       Traceback (most recent call last)",
      "Cell \u001b[0;32mIn[6], line 5\u001b[0m\n\u001b[1;32m      3\u001b[0m \u001b[38;5;28;01mfrom\u001b[39;00m \u001b[38;5;21;01mlangchain\u001b[39;00m\u001b[38;5;21;01m.\u001b[39;00m\u001b[38;5;21;01mchains\u001b[39;00m \u001b[38;5;28;01mimport\u001b[39;00m create_retrieval_chain\n\u001b[1;32m      4\u001b[0m \u001b[38;5;28;01mfrom\u001b[39;00m \u001b[38;5;21;01mlangchain\u001b[39;00m\u001b[38;5;21;01m.\u001b[39;00m\u001b[38;5;21;01mchains\u001b[39;00m\u001b[38;5;21;01m.\u001b[39;00m\u001b[38;5;21;01mcombine_documents\u001b[39;00m \u001b[38;5;28;01mimport\u001b[39;00m create_stuff_documents_chain\n\u001b[0;32m----> 5\u001b[0m \u001b[38;5;28;01mfrom\u001b[39;00m \u001b[38;5;21;01mlangchain_chroma\u001b[39;00m \u001b[38;5;28;01mimport\u001b[39;00m Chroma\n\u001b[1;32m      6\u001b[0m \u001b[38;5;28;01mfrom\u001b[39;00m \u001b[38;5;21;01mlangchain_community\u001b[39;00m\u001b[38;5;21;01m.\u001b[39;00m\u001b[38;5;21;01mdocument_loaders\u001b[39;00m \u001b[38;5;28;01mimport\u001b[39;00m WebBaseLoader\n\u001b[1;32m      7\u001b[0m \u001b[38;5;28;01mfrom\u001b[39;00m \u001b[38;5;21;01mlangchain_core\u001b[39;00m\u001b[38;5;21;01m.\u001b[39;00m\u001b[38;5;21;01mprompts\u001b[39;00m \u001b[38;5;28;01mimport\u001b[39;00m ChatPromptTemplate\n",
      "\u001b[0;31mModuleNotFoundError\u001b[0m: No module named 'langchain_chroma'"
     ]
    }
   ],
   "source": [
    "import bs4\n",
    "from langchain import hub\n",
    "from langchain.chains import create_retrieval_chain\n",
    "from langchain.chains.combine_documents import create_stuff_documents_chain\n",
    "from langchain_chroma import Chroma\n",
    "from langchain_community.document_loaders import WebBaseLoader\n",
    "from langchain_core.prompts import ChatPromptTemplate\n",
    "from langchain_openai import OpenAIEmbeddings\n",
    "from langchain_text_splitters import RecursiveCharacterTextSplitter\n",
    "from dotenv import load_dotenv\n",
    "load_dotenv()"
   ]
  },
  {
   "cell_type": "code",
   "execution_count": 2,
   "id": "44e8b14f-588f-48c0-9200-cc9ec14dfcfc",
   "metadata": {},
   "outputs": [],
   "source": [
    "loader_multiple_pages = WebBaseLoader(\n",
    "    web_paths=(\"https://lilianweng.github.io/posts/2023-06-23-agent/\",),\n",
    "    bs_kwargs=dict(\n",
    "        parse_only=bs4.SoupStrainer(\n",
    "            class_=(\"post-content\", \"post-title\", \"post-header\")\n",
    "        )\n",
    "    ),\n",
    "    [\"https://www.espn.com/\", \"https://google.com\"])"
   ]
  },
  {
   "cell_type": "code",
   "execution_count": 3,
   "id": "35c99654",
   "metadata": {},
   "outputs": [],
   "source": [
    "docs = loader_multiple_pages.load()"
   ]
  },
  {
   "cell_type": "code",
   "execution_count": 4,
   "id": "eaeb0008",
   "metadata": {},
   "outputs": [
    {
     "data": {
      "text/plain": [
       "Document(metadata={'source': 'https://www.espn.com/', 'title': 'ESPN - Serving Sports Fans. Anytime. Anywhere.', 'description': 'Visit ESPN for live scores, highlights and sports news. Stream exclusive games on ESPN+ and play fantasy sports.', 'language': 'en'}, page_content=\"\\n\\n\\n\\n\\n\\n\\n\\n\\nESPN - Serving Sports Fans. Anytime. Anywhere.\\n\\n\\n\\n\\n\\n\\n\\n\\n\\n\\n\\n\\n\\n\\n\\n\\n\\n\\n\\n\\n\\n\\n\\n\\n\\n\\n\\n\\n\\n\\n\\n\\n\\n\\n\\n\\n\\n\\n\\n\\n\\n\\n\\n\\n\\n\\n\\n\\n\\n\\n\\n\\n\\n\\n\\n\\n\\n\\n\\n\\n\\n\\n\\n\\n\\n\\n\\n\\n\\n\\n\\n\\n\\n\\n\\n\\n\\n\\n\\n\\n\\n\\n\\n\\n\\n\\n\\n\\n\\n\\n\\n\\n        Skip to main content\\n    \\n\\n        Skip to navigation\\n    \\n\\n\\n\\n\\n\\n\\n\\n\\n\\n\\n\\n\\n\\n\\n\\n\\n\\n\\n\\n\\n\\n\\n\\n\\n\\n\\n\\n\\n\\n\\n\\n\\n\\n<\\n\\n>\\n\\n\\n\\n\\n\\n\\n\\n\\n\\nMenuESPN\\n\\n\\n\\n\\n\\nscores\\n\\n\\n\\n\\nNEW! Find where to watch all of your favorite sports!\\n\\n\\n\\n\\n\\n\\n\\nNFLNBAMLBNCAAFNHLSoccer…WNBABoxingCFLNCAACricketF1GolfHorseLLWSMMANASCARNBA G LeagueNBA Summer LeagueNCAAMNCAAWNWSLOlympicsPLLProfessional WrestlingRacingRN BBRN FBRugbySports BettingTennisX GamesUFLFantasyWatchESPN BETESPN+\\n\\n\\n\\n\\n\\n\\n\\n\\n\\n\\n\\n\\n\\n\\n\\n  \\n\\nSubscribe Now\\n\\n\\n\\n\\n\\nMLB\\n\\n\\n\\n\\n\\n\\n\\nNFL PrimeTime\\n\\n\\n\\n\\n\\n\\n\\nThe Breakdown with Peyton and Belichick\\n\\n\\nQuick Links\\n\\n\\n\\n\\nWhere To Watch\\n\\n\\n\\n\\n\\n\\n\\nWNBA Playoffs Tracker\\n\\n\\n\\n\\n\\n\\n\\nMLB Playoff Tracker\\n\\n\\n\\n\\n\\n\\n\\nMLB Standings\\n\\n\\n\\n\\n\\n\\n\\n2024 NFL Schedule\\n\\n\\n\\n\\n\\n\\n\\nCollege Football Schedule\\n\\n\\n\\n\\n\\n\\n\\nESPN Radio: Listen Live\\n\\n\\n\\n\\n\\n\\nFavorites\\n\\n\\n\\n\\n\\n\\n      Manage Favorites\\n      \\n\\n\\n\\nCustomize ESPNCreate AccountLog InFantasy\\n\\n\\n\\n\\nFootball\\n\\n\\n\\n\\n\\n\\n\\nBaseball\\n\\n\\n\\n\\n\\n\\n\\nBasketball\\n\\n\\n\\n\\n\\n\\n\\nHockey\\n\\n\\nESPN Sites\\n\\n\\n\\n\\nESPN Deportes\\n\\n\\n\\n\\n\\n\\n\\nAndscape\\n\\n\\n\\n\\n\\n\\n\\nespnW\\n\\n\\n\\n\\n\\n\\n\\nESPNFC\\n\\n\\n\\n\\n\\n\\n\\nX Games\\n\\n\\n\\n\\n\\n\\n\\nSEC Network\\n\\n\\nESPN Apps\\n\\n\\n\\n\\nESPN\\n\\n\\n\\n\\n\\n\\n\\nESPN Fantasy\\n\\n\\n\\n\\n\\n\\n\\nTournament Challenge\\n\\n\\nFollow ESPN\\n\\n\\n\\n\\nFacebook\\n\\n\\n\\n\\n\\n\\n\\nX/Twitter\\n\\n\\n\\n\\n\\n\\n\\nInstagram\\n\\n\\n\\n\\n\\n\\n\\nSnapchat\\n\\n\\n\\n\\n\\n\\n\\nTikTok\\n\\n\\n\\n\\n\\n\\n\\nYouTube\\n\\n\\nFalcons steal win from Eagles in thrilling MNF finish5h1:06Kirk Cousins puts together clutch drive to lead Falcons over EaglesCousins secured his first Falcons win thanks to a 70-yard touchdown drive that sank Jalen Hurts and the Eagles.5hMarc Raimondi and Tim McManus\\n\\n\\n\\nSaquon Barkley's crucial drop gives Falcons life4h0:29\\n\\n\\nSaquon Barkley takes blame for late drop: 'I let my team down today'4h0:46\\n\\n\\nFalcons take late lead after Kirk Cousins' TD pass to Drake London4h0:25\\n\\n\\nJalen Hurts' tush push TD puts Eagles back in front4h0:16\\n\\n\\nDarnell Mooney sheds defender, flips into end zone for Falcons TD4h0:24\\n\\n\\nRay-Ray McCloud III penalized for punching C.J. Gardner-Johnson's face mask5h0:23\\n\\n\\nJalen Hurts puts Eagles on the board with TD strike to DeVonta Smith5h0:20\\n\\n\\n\\nEagles fete Super Bowl hero Foles in retirementEagles' Brown expects to be out 'couple of weeks'TOP HEADLINESCousins, Falcons just 'kept fighting' in PhillyEagles' Barkley: 'Let my team down' with dropPanthers bench Young, to start Dalton vs. RaidersSamuel (calf) to miss time in latest blow to 49ersSources: Air Force emerges as serious AAC targetTrout says move away from CF possible next yearKiffin: Wake's game buyout broke 'unwritten rule'Ryans: Tackle Mixon injured on 'definitely' hip-dropOverreacting to NFL Week 2BRYCE YOUNG BENCHEDThe Panthers are benching Bryce Young already?! Six questions on the decision and what's nextWhat led to the Panthers replacing Young, the former No. 1 overall pick, and what does it mean going forward?11hMultiple ContributorsJohn Byrum/Icon SportswireMcAfee: Young's career isn't over14h1:28Fantasy football buzzBEST OF 'MANNINGCAST'Eli doesn't agree that Peyton's tough love made him stronger5h1:13Belichick: Ray-Ray McCloud's penalty a 'really selfish play'5h0:23Belichick, Miles Teller and Matt Ryan join Week 2's 'ManningCast'MLB SCOREBOARDMONDAY'S GAMESSee AllWHERE THINGS STAND AFTER WEEK 3College football takeaways: Group of 5 teams show out, SEC dominates early CFP raceUNLV's sales pitch to the expanding Pac-12 is looking pretty strong. Our experts break down key storylines from Week 3.19hESPN StaffJay Biggerstaff-Imagn ImagesPower Rankings: Texas takes over the top spotOur college football experts give insight on each team based off Week 3 performances.18hESPN StaffConnelly ranks all 43 unbeatensAP poll reaction: What's next for each Top 25 team?A PHILLY WELCOMEJason Kelce pumps up the Philly crowd in style10h1:51'Monday Night Countdown' crew cannot handle Schefter's costume10h1:14Hurts' all-gray look headlines Week 2 arrivalsPatrick Mahomes amused by Jason Kelce's dancing ahead of MNFWEEK 2 ANALYSISEverything we learned in NFL Week 2: Takeaways, big questions and who impressed mostNFL Nation reporters react to all of the action, including Marvin Harrison Jr.'s two-TD performance, and answer the biggest questions coming out of each game.5hNFL NationChristian Petersen/Getty ImagesOverreacting to Week 2: What to make of the dominant Saints and the helpless PanthersCan anyone in the NFC stop the Saints? Could the Dolphins trade for a veteran QB?1dDan Graziano'So, who’s next?': Why $2.3 billion Sphere could be the future of sports18hBrett OkamotoGLOBAL SOCCER SCORESMONDAY'S MATCHESSee All Top HeadlinesCousins, Falcons just 'kept fighting' in PhillyEagles' Barkley: 'Let my team down' with dropPanthers bench Young, to start Dalton vs. RaidersSamuel (calf) to miss time in latest blow to 49ersSources: Air Force emerges as serious AAC targetTrout says move away from CF possible next yearKiffin: Wake's game buyout broke 'unwritten rule'Ryans: Tackle Mixon injured on 'definitely' hip-dropOverreacting to NFL Week 2Favorites FantasyManage FavoritesFantasy HomeCustomize ESPNCreate AccountLog InICYMI1:44Travis Hunter's unreal INT sparks 4 unsportsmanlike conduct penaltiesTravis Hunter's leaping interception leads to four unsportsmanlike conduct penalties on Colorado, and Hunter atones for the penalties with a touchdown on the ensuing drive. Best of ESPN+Soobum Im/Getty ImagesProjecting the College Football Playoff top 12 after Week 3We assess how the committee would stack the top teams in the country after Week 3, plus a look at whose wins in September will earn them bonus points on Selection Day.AP Photo/Matt Slocum, FileHaason Reddick trade: Four offers for the Jets' edge rusherReddick has yet to suit up for the Jets. If his holdout continues, could New York trade him? We crafted four offers that might make sense.Carmen Mandato/Getty ImagesHow to hit .300 in 2024? A closer look at MLB's best batsNo one hits .300 anymore -- well, almost no one. We break down the historically small but diverse group of hitters who are doing it this season.\\ufeff Trending NowESPN Illustration2024 MLB playoff tracker: Schedule, clinching scenarios, bracket\\n\\n\\n\\nWe have everything you need to know as the regular season reaches the homestretch, from current playoff matchups to league races to the postseason schedule.(Photo by David Becker/NBAE via Getty ImagesWNBA playoffs tracker: Who's in? Who's making the biggest impact and moreNew York, Minnesota, Connecticut, Las Vegas, Seattle, Indiana and Phoenix are in the playoffs. One spot remains.Illustration by ESPN'Winners write history': Inside Robert Kraft's 12-year Hall of Fame questPatriots owner Robert Kraft has an $11 billion empire and six Super Bowl rings but no Hall of Fame jacket. Sign up to play the #1 Fantasy game!Create A LeagueJoin Public LeagueReactivate A LeagueMock Draft NowSign up for FREE!Create A LeagueJoin a Public LeagueReactivate a LeaguePractice With a Mock DraftSign up for FREE!Create A LeagueJoin a Public LeagueReactivate a LeaguePractice with a Mock DraftGet a custom ESPN experienceEnjoy the benefits of a personalized accountSelect your favorite leagues, teams and players and get the latest scores, news and updates that matter most to you. \\n\\nESPN+\\n\\n\\n\\n\\nMLB\\n\\n\\n\\n\\n\\n\\n\\nNFL PrimeTime\\n\\n\\n\\n\\n\\n\\n\\nThe Breakdown with Peyton and Belichick\\n\\n\\nQuick Links\\n\\n\\n\\n\\nWhere To Watch\\n\\n\\n\\n\\n\\n\\n\\nWNBA Playoffs Tracker\\n\\n\\n\\n\\n\\n\\n\\nMLB Playoff Tracker\\n\\n\\n\\n\\n\\n\\n\\nMLB Standings\\n\\n\\n\\n\\n\\n\\n\\n2024 NFL Schedule\\n\\n\\n\\n\\n\\n\\n\\nCollege Football Schedule\\n\\n\\n\\n\\n\\n\\n\\nESPN Radio: Listen Live\\n\\n\\nFantasy\\n\\n\\n\\n\\nFootball\\n\\n\\n\\n\\n\\n\\n\\nBaseball\\n\\n\\n\\n\\n\\n\\n\\nBasketball\\n\\n\\n\\n\\n\\n\\n\\nHockey\\n\\n\\nESPN Sites\\n\\n\\n\\n\\nESPN Deportes\\n\\n\\n\\n\\n\\n\\n\\nAndscape\\n\\n\\n\\n\\n\\n\\n\\nespnW\\n\\n\\n\\n\\n\\n\\n\\nESPNFC\\n\\n\\n\\n\\n\\n\\n\\nX Games\\n\\n\\n\\n\\n\\n\\n\\nSEC Network\\n\\n\\nESPN Apps\\n\\n\\n\\n\\nESPN\\n\\n\\n\\n\\n\\n\\n\\nESPN Fantasy\\n\\n\\n\\n\\n\\n\\n\\nTournament Challenge\\n\\n\\nFollow ESPN\\n\\n\\n\\n\\nFacebook\\n\\n\\n\\n\\n\\n\\n\\nX/Twitter\\n\\n\\n\\n\\n\\n\\n\\nInstagram\\n\\n\\n\\n\\n\\n\\n\\nSnapchat\\n\\n\\n\\n\\n\\n\\n\\nTikTok\\n\\n\\n\\n\\n\\n\\n\\nYouTube\\n\\n\\nTerms of UsePrivacy PolicyInterest-Based Ads© ESPN Enterprises, Inc. All rights reserved.\\n\\n\\n\\n\\n\\n\\n\\n\\n\\n\\n\\n\\n\\n\\n\\n\\n\\n\")"
      ]
     },
     "execution_count": 4,
     "metadata": {},
     "output_type": "execute_result"
    }
   ],
   "source": [
    "docs[0]"
   ]
  },
  {
   "cell_type": "code",
   "execution_count": 5,
   "id": "626faf77",
   "metadata": {},
   "outputs": [
    {
     "name": "stdout",
     "output_type": "stream",
     "text": [
      "{'source': 'https://www.espn.com/', 'title': 'ESPN - Serving Sports Fans. Anytime. Anywhere.', 'description': 'Visit ESPN for live scores, highlights and sports news. Stream exclusive games on ESPN+ and play fantasy sports.', 'language': 'en'}\n"
     ]
    }
   ],
   "source": [
    "print(docs[0].metadata)"
   ]
  },
  {
   "cell_type": "code",
   "execution_count": null,
   "id": "26e7cdb0",
   "metadata": {},
   "outputs": [],
   "source": []
  }
 ],
 "metadata": {
  "kernelspec": {
   "display_name": "Python 3 (ipykernel)",
   "language": "python",
   "name": "python3"
  },
  "language_info": {
   "codemirror_mode": {
    "name": "ipython",
    "version": 3
   },
   "file_extension": ".py",
   "mimetype": "text/x-python",
   "name": "python",
   "nbconvert_exporter": "python",
   "pygments_lexer": "ipython3",
   "version": "3.10.12"
  }
 },
 "nbformat": 4,
 "nbformat_minor": 5
}
